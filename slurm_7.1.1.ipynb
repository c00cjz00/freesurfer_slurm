{
 "cells": [
  {
   "cell_type": "markdown",
   "id": "bebce9d4-2bf2-45fc-b610-9508c3349d9c",
   "metadata": {},
   "source": [
    "## EXAMPLE: slurm_7.1.1.ipynb"
   ]
  },
  {
   "cell_type": "code",
   "execution_count": 59,
   "id": "c2e53e40-e5b0-4819-a3ee-9de07fdd5483",
   "metadata": {
    "tags": []
   },
   "outputs": [
    {
     "name": "stdout",
     "output_type": "stream",
     "text": [
      "Submitted batch job 7639643\n"
     ]
    }
   ],
   "source": [
    "%%bash\n",
    "# 1. SUBJECTS_DIR and inputFile\n",
    "SUBJECTS_DIR=/work/g00cjz00/github/TMU_COURSE/data\n",
    "inputFile=fNC02.nii.gz\n",
    "\n",
    "# 2. saveFolder\n",
    "fname=$(basename $inputFile)\n",
    "fbname=${fname%.*}\n",
    "saveFolder=${fbname%.*}\n",
    "\n",
    "# 3. JOB for freesurfer_7.1.1\n",
    "scancel -n ${saveFolder} && rm -rf ${SUBJECTS_DIR}/${saveFolder} && sleep 1 \n",
    "sbatch -J ${saveFolder} --export=SUBJECTS_DIR=${SUBJECTS_DIR},inputFile=${inputFile},IMAGE=${IMAGE} slurm_7.1.1.sh"
   ]
  },
  {
   "cell_type": "code",
   "execution_count": 58,
   "id": "a076e536-acb8-4f11-a40c-8bed5f2d449c",
   "metadata": {
    "tags": []
   },
   "outputs": [
    {
     "name": "stdout",
     "output_type": "stream",
     "text": [
      "Submitted batch job 7639642\n"
     ]
    }
   ],
   "source": [
    "%%bash\n",
    "# 1. SUBJECTS_DIR and inputFile\n",
    "SUBJECTS_DIR=/work/g00cjz00/github/TMU_COURSE/data\n",
    "inputFile=fNC01.nii.gz\n",
    "\n",
    "# 2. saveFolder\n",
    "fname=$(basename $inputFile)\n",
    "fbname=${fname%.*}\n",
    "saveFolder=${fbname%.*}\n",
    "\n",
    "# 3. JOB for freesurfer_7.1.1\n",
    "scancel -n ${saveFolder} && rm -rf ${SUBJECTS_DIR}/${saveFolder} && rm -f ${SUBJECTS_DIR}/${saveFolder}.zip &&  sleep 1 \n",
    "sbatch -J ${saveFolder} --export=SUBJECTS_DIR=${SUBJECTS_DIR},inputFile=${inputFile},IMAGE=${IMAGE} slurm_7.1.1.sh"
   ]
  },
  {
   "cell_type": "code",
   "execution_count": 60,
   "id": "05a75ab6-9e52-48da-a604-302cd1533ec0",
   "metadata": {
    "tags": []
   },
   "outputs": [
    {
     "name": "stdout",
     "output_type": "stream",
     "text": [
      "Submitted batch job 7639644\n"
     ]
    }
   ],
   "source": [
    "%%bash\n",
    "# 1. SUBJECTS_DIR and inputFile\n",
    "SUBJECTS_DIR=/work/g00cjz00/github/TMU_COURSE/data\n",
    "inputFile=fNC03.nii.gz\n",
    "\n",
    "# 2. saveFolder\n",
    "fname=$(basename $inputFile)\n",
    "fbname=${fname%.*}\n",
    "saveFolder=${fbname%.*}\n",
    "\n",
    "# 2. JOB for freesurfer_7.1.1\n",
    "scancel -n ${saveFolder} && rm -rf ${SUBJECTS_DIR}/${saveFolder} && rm -f ${SUBJECTS_DIR}/${saveFolder}.zip &&  sleep 1 \n",
    "sbatch -J ${saveFolder} --export=SUBJECTS_DIR=${SUBJECTS_DIR},inputFile=${inputFile},IMAGE=${IMAGE} slurm_7.1.1.sh"
   ]
  },
  {
   "cell_type": "code",
   "execution_count": 61,
   "id": "3c0425a0-a96a-468e-9dff-b8924aacad94",
   "metadata": {
    "tags": []
   },
   "outputs": [
    {
     "name": "stdout",
     "output_type": "stream",
     "text": [
      "Submitted batch job 7639645\n"
     ]
    }
   ],
   "source": [
    "%%bash\n",
    "# 1. SUBJECTS_DIR and inputFile\n",
    "SUBJECTS_DIR=/work/g00cjz00/github/TMU_COURSE/data\n",
    "inputFile=fNC04.nii.gz\n",
    "\n",
    "# 2. saveFolder\n",
    "fname=$(basename $inputFile)\n",
    "fbname=${fname%.*}\n",
    "saveFolder=${fbname%.*}\n",
    "\n",
    "# 2. JOB for freesurfer_7.1.1\n",
    "scancel -n ${saveFolder} && rm -rf ${SUBJECTS_DIR}/${saveFolder} && rm -f ${SUBJECTS_DIR}/${saveFolder}.zip &&  sleep 1 \n",
    "sbatch -J ${saveFolder} --export=SUBJECTS_DIR=${SUBJECTS_DIR},inputFile=${inputFile},IMAGE=${IMAGE} slurm_7.1.1.sh"
   ]
  },
  {
   "cell_type": "code",
   "execution_count": 63,
   "id": "6e14644f-8752-4ce6-a5d5-3395e9d16ddc",
   "metadata": {
    "tags": []
   },
   "outputs": [
    {
     "name": "stdout",
     "output_type": "stream",
     "text": [
      "             JOBID PARTITION     NAME     USER ST       TIME  NODES NODELIST(REASON) \n",
      "           7631826    ngs92G _t3jbio_ g00cjz00  R   14:45:11      1 cpn3866 \n",
      "           7639642    ngs26G    fNC01 g00cjz00  R       0:07      1 cpn3869 \n",
      "           7639643    ngs26G    fNC02 g00cjz00  R       0:07      1 cpn3892 \n",
      "           7639644    ngs26G    fNC03 g00cjz00  R       0:07      1 cpn3856 \n",
      "           7639645    ngs26G    fNC04 g00cjz00  R       0:07      1 cpn3856 \n"
     ]
    }
   ],
   "source": [
    "!squeue -u $(whoami)"
   ]
  },
  {
   "cell_type": "code",
   "execution_count": 18,
   "id": "08be9d6b-8ee8-4a0e-8be4-d5d0e75a5602",
   "metadata": {},
   "outputs": [],
   "source": [
    "!scancel 7636534    "
   ]
  }
 ],
 "metadata": {
  "kernelspec": {
   "display_name": "Python 3 (ipykernel)",
   "language": "python",
   "name": "python3"
  },
  "language_info": {
   "codemirror_mode": {
    "name": "ipython",
    "version": 3
   },
   "file_extension": ".py",
   "mimetype": "text/x-python",
   "name": "python",
   "nbconvert_exporter": "python",
   "pygments_lexer": "ipython3",
   "version": "3.8.16"
  }
 },
 "nbformat": 4,
 "nbformat_minor": 5
}
