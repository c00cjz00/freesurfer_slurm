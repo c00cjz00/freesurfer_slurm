{
 "cells": [
  {
   "cell_type": "markdown",
   "id": "f28ef9f9-0998-4493-b469-6be2fc3c4e87",
   "metadata": {},
   "source": [
    "## EXAMPLE: slurm_7.1.1.sh\n",
    "EDIT content in cell below\n",
    "1. SUBJECTS_DIR=$PWD/data\n",
    "2. inputFile=fNC01.nii.gz"
   ]
  },
  {
   "cell_type": "code",
   "execution_count": 3,
   "id": "c2e53e40-e5b0-4819-a3ee-9de07fdd5483",
   "metadata": {
    "tags": []
   },
   "outputs": [
    {
     "name": "stdout",
     "output_type": "stream",
     "text": [
      "Process is interrupted.\n"
     ]
    }
   ],
   "source": [
    "%%bash\n",
    "## Singularity\n",
    "image=/work/u00cjz00/nvidia/freesurfer_7.1.1.sif\n",
    "base_cmd=\"/opt/ohpc/Taiwania3/libs/singularity/3.10.2/bin/singularity exec \\\n",
    "-B /work/$(whoami) \\\n",
    "-B /usr/bin:/usr/bin33 \\\n",
    "-B /work/u00cjz00/pkg/MCRv84:/usr/local/freesurfer/MCRv84 \\\n",
    "-B /work/u00cjz00/nvidia/freesurfer_license/license.txt:/usr/local/freesurfer/license.txt \\\n",
    "-B /work/u00cjz00/pkg/freesurfer711_bug/quantifyThalamicNuclei.sh:/usr/local/freesurfer/bin/quantifyThalamicNuclei.sh \\\n",
    "${image}\" \n",
    "\n",
    "## 1. input file\n",
    "SUBJECTS_DIR=$PWD/data\n",
    "inputFile=fNC01.nii.gz\n",
    "\n",
    "## 2. saveFolder\n",
    "fname=$(basename $inputFile)\n",
    "fbname=${fname%.*}\n",
    "saveFolder=${fbname%.*}\n",
    "\n",
    "# 3. delete exist file \n",
    "rm -rf ${SUBJECTS_DIR}/${saveFolder}\n",
    "rm -f ${SUBJECTS_DIR}/${saveFolder}.zip\n",
    "sleep 1 \n",
    "\n",
    "# 4. send cmd\n",
    "$base_cmd bash freesurfer.sh $SUBJECTS_DIR $inputFile > logs/${saveFolder}t.log "
   ]
  },
  {
   "cell_type": "code",
   "execution_count": null,
   "id": "295f5634-ab4d-400c-9539-3e9b4802c3e9",
   "metadata": {},
   "outputs": [],
   "source": []
  }
 ],
 "metadata": {
  "kernelspec": {
   "display_name": "Python 3 (ipykernel)",
   "language": "python",
   "name": "python3"
  },
  "language_info": {
   "codemirror_mode": {
    "name": "ipython",
    "version": 3
   },
   "file_extension": ".py",
   "mimetype": "text/x-python",
   "name": "python",
   "nbconvert_exporter": "python",
   "pygments_lexer": "ipython3",
   "version": "3.8.16"
  }
 },
 "nbformat": 4,
 "nbformat_minor": 5
}
